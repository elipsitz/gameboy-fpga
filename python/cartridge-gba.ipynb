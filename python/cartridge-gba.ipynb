{
 "cells": [
  {
   "cell_type": "code",
   "execution_count": null,
   "id": "4a1049f3",
   "metadata": {},
   "outputs": [],
   "source": [
    "from pynq import Overlay\n",
    "from pynq import GPIO\n",
    "import time\n",
    "import hashlib"
   ]
  },
  {
   "cell_type": "code",
   "execution_count": null,
   "id": "0226ea4c",
   "metadata": {},
   "outputs": [],
   "source": [
    "overlay = Overlay(\"/home/xilinx/cartridge.bit\")\n",
    "c = None"
   ]
  },
  {
   "cell_type": "code",
   "execution_count": null,
   "id": "8f45d787",
   "metadata": {},
   "outputs": [],
   "source": [
    "gpio_link_clock = GPIO(GPIO.get_gpio_pin(38), \"out\")\n",
    "gpio_link_dir_clock = GPIO(GPIO.get_gpio_pin(39), \"out\")\n",
    "gpio_link_data = GPIO(GPIO.get_gpio_pin(40), \"out\")\n",
    "gpio_link_dir_data = GPIO(GPIO.get_gpio_pin(41), \"out\")\n",
    "gpio_link_in = GPIO(GPIO.get_gpio_pin(42), \"out\")\n",
    "gpio_link_dir_in = GPIO(GPIO.get_gpio_pin(43), \"out\")\n",
    "gpio_link_out = GPIO(GPIO.get_gpio_pin(44), \"out\")\n",
    "gpio_link_dir_out = GPIO(GPIO.get_gpio_pin(45), \"out\")"
   ]
  },
  {
   "cell_type": "code",
   "execution_count": null,
   "id": "ea4a6661",
   "metadata": {},
   "outputs": [],
   "source": [
    "gpio_link_dir_in.write(0)\n",
    "gpio_link_dir_data.write(0)\n",
    "gpio_link_dir_out.write(0)\n",
    "gpio_link_dir_clock.write(0)"
   ]
  },
  {
   "cell_type": "code",
   "execution_count": null,
   "id": "8c82dedf",
   "metadata": {},
   "outputs": [],
   "source": [
    "class Cartridge:\n",
    "    def __init__(self):\n",
    "        self.gpio_wr = GPIO(GPIO.get_gpio_pin(1), \"out\")\n",
    "        self.gpio_rd = GPIO(GPIO.get_gpio_pin(2), \"out\")\n",
    "        self.gpio_cs = GPIO(GPIO.get_gpio_pin(3), \"out\")\n",
    "        self.gpio_cs2 = GPIO(GPIO.get_gpio_pin(4), \"out\")\n",
    "        self.gpio_phi = GPIO(GPIO.get_gpio_pin(5), \"out\")\n",
    "        self.gpio_irq = GPIO(GPIO.get_gpio_pin(6), \"in\")\n",
    "        \n",
    "        self.gpio_oe = GPIO(GPIO.get_gpio_pin(7), \"out\")\n",
    "        self.gpio_dir_A_hi = GPIO(GPIO.get_gpio_pin(8), \"out\")\n",
    "        self.gpio_dir_A_lo = GPIO(GPIO.get_gpio_pin(9), \"out\")\n",
    "        self.gpio_dir_ctrl = GPIO(GPIO.get_gpio_pin(10), \"out\")\n",
    "        self.gpio_dir_D = GPIO(GPIO.get_gpio_pin(11), \"out\")\n",
    "        self.gpio_dir_cs2 = GPIO(GPIO.get_gpio_pin(12), \"out\")\n",
    "        self.gpio_dir_irq = GPIO(GPIO.get_gpio_pin(13), \"out\")\n",
    "\n",
    "        self.gpio_ad = [GPIO(GPIO.get_gpio_pin(14 + i), \"out\") for i in range(24)]\n",
    "        self.read_mode = True\n",
    "        \n",
    "        # Set initial directions\n",
    "        self.gpio_dir_A_hi.write(1) # Output\n",
    "        self.gpio_dir_A_lo.write(1) # Output\n",
    "        self.gpio_dir_ctrl.write(1) # Output\n",
    "        self.gpio_dir_D.write(1) # Output\n",
    "        self.gpio_dir_cs2.write(1) # Output\n",
    "        self.gpio_dir_irq.write(0) # Input\n",
    "        self.gpio_oe.write(0) # Enable\n",
    "        \n",
    "        self.gpio_wr.write(1)\n",
    "        self.gpio_rd.write(1)\n",
    "        self.gpio_cs.write(1)\n",
    "        self.gpio_cs2.write(1)\n",
    "        self.gpio_phi.write(0)\n",
    "        \n",
    "        self._sleep()\n",
    "        \n",
    "    def _sleep(self):\n",
    "        sleep_time = 2.0 / (16 * 1024 * 1024)\n",
    "        end = time.monotonic() + sleep_time\n",
    "        while time.monotonic() < end:\n",
    "            pass\n",
    "        \n",
    "    def read_rom_nonsequential(self, address):\n",
    "        # Set up all output for writing new address\n",
    "        for g in self.gpio_ad:\n",
    "            g.release()\n",
    "        self.gpio_ad = [GPIO(GPIO.get_gpio_pin(14 + i), \"out\") for i in range(24)]\n",
    "        self.gpio_dir_A_hi.write(1)\n",
    "        self.gpio_dir_A_lo.write(1)\n",
    "        self.gpio_dir_D.write(1)\n",
    "        self.read_mode = False\n",
    "        \n",
    "        # Write full address\n",
    "        for i in range(24):\n",
    "            self.gpio_ad[i].write(address & 1)\n",
    "            address = address >> 1\n",
    "            \n",
    "        # CS 1 -> 0 latches address\n",
    "        self.gpio_cs.write(1)\n",
    "        self._sleep()\n",
    "        self.gpio_cs.write(0)\n",
    "        \n",
    "        data = self.read_rom_sequential()\n",
    "        \n",
    "        # CS should be left LOW when reading in this burst\n",
    "        \n",
    "        return data\n",
    "        \n",
    "    def read_rom_sequential(self):\n",
    "        # Set up data bus for input\n",
    "        if not self.read_mode:\n",
    "            for g in self.gpio_ad[:16]:\n",
    "                g.release()\n",
    "            self.gpio_ad[:16] = [GPIO(GPIO.get_gpio_pin(14 + i), \"in\") for i in range(16)]\n",
    "            self.gpio_dir_A_hi.write(0)\n",
    "            self.gpio_dir_A_lo.write(0)\n",
    "            self.read_mode = True\n",
    "        \n",
    "        # Pull read low.\n",
    "        self.gpio_rd.write(0)\n",
    "        self._sleep()\n",
    "        \n",
    "        # Read data\n",
    "        data = 0\n",
    "        for i in range(16):\n",
    "            data |= self.gpio_ad[i].read() << i\n",
    "            \n",
    "        # Put read high.\n",
    "        self.gpio_rd.write(1)\n",
    "        \n",
    "        return [data & 0xFF, (data >> 8) & 0xFF]\n",
    "        \n",
    "    def release(self):\n",
    "        gpios = [self.gpio_wr, self.gpio_rd, self.gpio_cs, self.gpio_cs2, self.gpio_phi, self.gpio_irq] + self.gpio_ad\n",
    "        for gpio in gpios:\n",
    "            gpio.release()\n",
    "        \n",
    "if c is not None:\n",
    "    c.release()\n",
    "c = Cartridge()"
   ]
  },
  {
   "cell_type": "code",
   "execution_count": null,
   "id": "de49b394",
   "metadata": {},
   "outputs": [],
   "source": [
    "data = c.read_rom_nonsequential(3)\n",
    "print([hex(x) for x in data])"
   ]
  },
  {
   "cell_type": "code",
   "execution_count": null,
   "id": "61b3e338",
   "metadata": {},
   "outputs": [],
   "source": [
    "data = c.read_rom_sequential()\n",
    "print([hex(x) for x in data])"
   ]
  },
  {
   "cell_type": "code",
   "execution_count": null,
   "id": "09585366",
   "metadata": {},
   "outputs": [],
   "source": [
    "start_time = time.time()\n",
    "rom_dump = c.read_rom_nonsequential(0)\n",
    "while len(rom_dump) < 256:\n",
    "    rom_dump.extend(c.read_rom_sequential())\n",
    "end_time = time.time()\n",
    "print(end_time - start_time)"
   ]
  },
  {
   "cell_type": "code",
   "execution_count": null,
   "id": "9a0fb347",
   "metadata": {},
   "outputs": [],
   "source": []
  }
 ],
 "metadata": {
  "kernelspec": {
   "display_name": "Python 3 (ipykernel)",
   "language": "python",
   "name": "python3"
  },
  "language_info": {
   "codemirror_mode": {
    "name": "ipython",
    "version": 3
   },
   "file_extension": ".py",
   "mimetype": "text/x-python",
   "name": "python",
   "nbconvert_exporter": "python",
   "pygments_lexer": "ipython3",
   "version": "3.10.4"
  }
 },
 "nbformat": 4,
 "nbformat_minor": 5
}

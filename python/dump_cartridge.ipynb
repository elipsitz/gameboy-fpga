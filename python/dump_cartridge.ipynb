{
 "cells": [
  {
   "cell_type": "code",
   "execution_count": null,
   "id": "4a1049f3",
   "metadata": {},
   "outputs": [],
   "source": [
    "from pynq import Overlay\n",
    "from pynq import GPIO\n",
    "import time\n",
    "import hashlib"
   ]
  },
  {
   "cell_type": "code",
   "execution_count": null,
   "id": "0226ea4c",
   "metadata": {},
   "outputs": [],
   "source": [
    "overlay = Overlay(\"/home/xilinx/cartridge.bit\")\n",
    "c = None"
   ]
  },
  {
   "cell_type": "code",
   "execution_count": null,
   "id": "8c82dedf",
   "metadata": {},
   "outputs": [],
   "source": [
    "class Cartridge:\n",
    "    def __init__(self):\n",
    "        self.gpio_wr = GPIO(GPIO.get_gpio_pin(1), \"out\")\n",
    "        self.gpio_rd = GPIO(GPIO.get_gpio_pin(2), \"out\")\n",
    "        self.gpio_cs = GPIO(GPIO.get_gpio_pin(3), \"out\")\n",
    "        self.gpio_rst = GPIO(GPIO.get_gpio_pin(4), \"out\")\n",
    "        self.gpio_phi = GPIO(GPIO.get_gpio_pin(5), \"out\")\n",
    "        self.gpio_vin = GPIO(GPIO.get_gpio_pin(6), \"in\")\n",
    "        \n",
    "        self.gpio_oe = GPIO(GPIO.get_gpio_pin(7), \"out\")\n",
    "        self.gpio_dir_A_hi = GPIO(GPIO.get_gpio_pin(8), \"out\")\n",
    "        self.gpio_dir_A_lo = GPIO(GPIO.get_gpio_pin(9), \"out\")\n",
    "        self.gpio_dir_ctrl = GPIO(GPIO.get_gpio_pin(10), \"out\")\n",
    "        self.gpio_dir_D = GPIO(GPIO.get_gpio_pin(11), \"out\")\n",
    "        self.gpio_dir_rst = GPIO(GPIO.get_gpio_pin(12), \"out\")\n",
    "        self.gpio_dir_vin = GPIO(GPIO.get_gpio_pin(13), \"out\")\n",
    "\n",
    "        self.gpio_a = [GPIO(GPIO.get_gpio_pin(14 + i), \"out\") for i in range(16)]\n",
    "        self.gpio_d = [GPIO(GPIO.get_gpio_pin(30 + i), \"in\") for i in range(8)]\n",
    "        self.read_mode = True\n",
    "        \n",
    "        # Set initial directions\n",
    "        self.gpio_dir_A_hi.write(1) # Output\n",
    "        self.gpio_dir_A_lo.write(1) # Output\n",
    "        self.gpio_dir_ctrl.write(1) # Output\n",
    "        self.gpio_dir_D.write(0) # Input\n",
    "        self.gpio_dir_rst.write(1) # Output\n",
    "        self.gpio_dir_vin.write(1) # Input\n",
    "        self.gpio_oe.write(0) # Enable\n",
    "        \n",
    "        time.sleep(0.1)\n",
    "        \n",
    "        self.gpio_rst.write(0)\n",
    "        time.sleep(0.1)\n",
    "        self.gpio_rst.write(1)\n",
    "        \n",
    "    def _write_address(self, address):\n",
    "        for i in range(16):\n",
    "            self.gpio_a[i].write(address & 1)\n",
    "            address = address >> 1\n",
    "        time.sleep(1.0 / 1_000_000.0)\n",
    "            \n",
    "    def read(self, address, rom):\n",
    "        self.gpio_rd.write(0)\n",
    "        self.gpio_wr.write(1)\n",
    "        self.gpio_cs.write(int(rom))\n",
    "        \n",
    "        self._write_address(address)\n",
    "        \n",
    "        if not self.read_mode:\n",
    "            self.read_mode = True\n",
    "            for x in self.gpio_d:\n",
    "                x.release()\n",
    "            self.gpio_dir_D.write(0) # Input\n",
    "            self.gpio_d = [GPIO(GPIO.get_gpio_pin(30 + i), \"in\") for i in range(8)]\n",
    "        \n",
    "        data = 0\n",
    "        for i in range(8):\n",
    "            data |= self.gpio_d[i].read() << i\n",
    "            \n",
    "        self.gpio_cs.write(1)\n",
    "            \n",
    "        return data\n",
    "            \n",
    "    def write(self, address, data, rom):\n",
    "        self.gpio_rd.write(1)\n",
    "        self.gpio_wr.write(1)\n",
    "        self.gpio_cs.write(int(rom))\n",
    "        \n",
    "        self._write_address(address)\n",
    "        \n",
    "        if self.read_mode:\n",
    "            self.read_mode = False\n",
    "            for x in self.gpio_d:\n",
    "                x.release()\n",
    "            self.gpio_dir_D.write(1) # Output\n",
    "            self.gpio_d = [GPIO(GPIO.get_gpio_pin(30 + i), \"out\") for i in range(8)]\n",
    "            \n",
    "        for i in range(8):\n",
    "            self.gpio_d[i].write(data & 1)\n",
    "            data = data >> 1\n",
    "            \n",
    "        self.gpio_wr.write(0)\n",
    "#         time.sleep(0.5 / 1_000_000.0)\n",
    "        time.sleep(0.01)\n",
    "        self.gpio_wr.write(1)\n",
    "        self.gpio_rd.write(0)\n",
    "        self.gpio_cs.write(1)\n",
    "        \n",
    "    def release(self):\n",
    "        gpios = [self.gpio_wr, self.gpio_rd, self.gpio_cs, self.gpio_rst] + self.gpio_a + self.gpio_d\n",
    "        for gpio in gpios:\n",
    "            gpio.release()\n",
    "        \n",
    "if c is not None:\n",
    "    c.release()\n",
    "c = Cartridge()"
   ]
  },
  {
   "cell_type": "code",
   "execution_count": null,
   "id": "4b8b29ba",
   "metadata": {},
   "outputs": [],
   "source": [
    "cartridge_type = c.read(0x0147, True)\n",
    "print(\"cart type\", hex(cartridge_type))\n",
    "rom_size = c.read(0x0148, True)\n",
    "print(\"rom size\", hex(rom_size))\n",
    "ram_size = c.read(0x0149, True)\n",
    "print(\"ram size \", hex(ram_size))"
   ]
  },
  {
   "cell_type": "code",
   "execution_count": null,
   "id": "c3068c3c",
   "metadata": {},
   "outputs": [],
   "source": [
    "cart_dump = [c.read(i, True) for i in range(0, 0x4000)]"
   ]
  },
  {
   "cell_type": "code",
   "execution_count": null,
   "id": "db8fc20e",
   "metadata": {},
   "outputs": [],
   "source": [
    "# Cartridge type\n",
    "hex(c.read(0x0147, True))"
   ]
  },
  {
   "cell_type": "code",
   "execution_count": null,
   "id": "37c9e1b0",
   "metadata": {},
   "outputs": [],
   "source": [
    "hex(c.read(0x4000, True))"
   ]
  },
  {
   "cell_type": "code",
   "execution_count": null,
   "id": "13f56a04",
   "metadata": {},
   "outputs": [],
   "source": [
    "# Rom bank number\n",
    "c.write(0x2000, 2, True)"
   ]
  },
  {
   "cell_type": "code",
   "execution_count": null,
   "id": "d105a449",
   "metadata": {},
   "outputs": [],
   "source": [
    "# Enable ram\n",
    "c.write(0x0000, 0x0A, True)"
   ]
  },
  {
   "cell_type": "code",
   "execution_count": null,
   "id": "a71f412a",
   "metadata": {},
   "outputs": [],
   "source": [
    "hex(c.read(0xA000, False))"
   ]
  },
  {
   "cell_type": "code",
   "execution_count": null,
   "id": "3084c069",
   "metadata": {},
   "outputs": [],
   "source": [
    "# Disable ram\n",
    "c.write(0x0000, 0x00, True)"
   ]
  },
  {
   "cell_type": "code",
   "execution_count": null,
   "id": "118f51af",
   "metadata": {},
   "outputs": [],
   "source": [
    "ram_dumps = []"
   ]
  },
  {
   "cell_type": "code",
   "execution_count": null,
   "id": "37ee854b",
   "metadata": {},
   "outputs": [],
   "source": [
    "ram_dump = []\n",
    "ram_dumps.append(ram_dump)\n",
    "start = time.time()\n",
    "# enable ram\n",
    "c.write(0x0000, 0x0A, True)\n",
    "# bank\n",
    "c.write(0x4000, 0, True)\n",
    "time.sleep(1)\n",
    "for i in range(0xA000, 0xA000 + (8 * 1024)):\n",
    "    b = c.read(i, False)\n",
    "    ram_dump.append(b)\n",
    "# disable ram\n",
    "c.write(0x0000, 0x00, True)\n",
    "end = time.time()\n",
    "print(\"completed in \", end - start)\n",
    "print(\"hash: \", hashlib.sha1(bytes(ram_dump)).hexdigest())\n",
    "\n",
    "\n",
    "print(c.read(0xA000, False))\n"
   ]
  },
  {
   "cell_type": "code",
   "execution_count": null,
   "id": "e68743ed",
   "metadata": {},
   "outputs": [],
   "source": [
    "with open('/home/xilinx/dump.sav', 'wb') as f:\n",
    "    f.write(bytes(ram_dump))"
   ]
  },
  {
   "cell_type": "code",
   "execution_count": null,
   "id": "67a866b4",
   "metadata": {},
   "outputs": [],
   "source": []
  }
 ],
 "metadata": {
  "kernelspec": {
   "display_name": "Python 3 (ipykernel)",
   "language": "python",
   "name": "python3"
  },
  "language_info": {
   "codemirror_mode": {
    "name": "ipython",
    "version": 3
   },
   "file_extension": ".py",
   "mimetype": "text/x-python",
   "name": "python",
   "nbconvert_exporter": "python",
   "pygments_lexer": "ipython3",
   "version": "3.10.4"
  }
 },
 "nbformat": 4,
 "nbformat_minor": 5
}

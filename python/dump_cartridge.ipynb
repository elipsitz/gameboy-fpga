{
 "cells": [
  {
   "cell_type": "code",
   "execution_count": 1,
   "id": "4a1049f3",
   "metadata": {},
   "outputs": [],
   "source": [
    "from pynq import Overlay\n",
    "from pynq import GPIO\n",
    "import time"
   ]
  },
  {
   "cell_type": "code",
   "execution_count": 2,
   "id": "0226ea4c",
   "metadata": {},
   "outputs": [
    {
     "data": {
      "application/javascript": [
       "\n",
       "try {\n",
       "require(['notebook/js/codecell'], function(codecell) {\n",
       "  codecell.CodeCell.options_default.highlight_modes[\n",
       "      'magic_text/x-csrc'] = {'reg':[/^%%microblaze/]};\n",
       "  Jupyter.notebook.events.one('kernel_ready.Kernel', function(){\n",
       "      Jupyter.notebook.get_cells().map(function(cell){\n",
       "          if (cell.cell_type == 'code'){ cell.auto_highlight(); } }) ;\n",
       "  });\n",
       "});\n",
       "} catch (e) {};\n"
      ]
     },
     "metadata": {},
     "output_type": "display_data"
    },
    {
     "data": {
      "application/javascript": [
       "\n",
       "try {\n",
       "require(['notebook/js/codecell'], function(codecell) {\n",
       "  codecell.CodeCell.options_default.highlight_modes[\n",
       "      'magic_text/x-csrc'] = {'reg':[/^%%pybind11/]};\n",
       "  Jupyter.notebook.events.one('kernel_ready.Kernel', function(){\n",
       "      Jupyter.notebook.get_cells().map(function(cell){\n",
       "          if (cell.cell_type == 'code'){ cell.auto_highlight(); } }) ;\n",
       "  });\n",
       "});\n",
       "} catch (e) {};\n"
      ]
     },
     "metadata": {},
     "output_type": "display_data"
    }
   ],
   "source": [
    "overlay = Overlay(\"/home/xilinx/cartridge.bit\")\n",
    "c = None"
   ]
  },
  {
   "cell_type": "code",
   "execution_count": 3,
   "id": "8c82dedf",
   "metadata": {},
   "outputs": [],
   "source": [
    "class Cartridge:\n",
    "    def __init__(self):\n",
    "        self.gpio_wr = GPIO(GPIO.get_gpio_pin(0), \"out\")\n",
    "        self.gpio_rd = GPIO(GPIO.get_gpio_pin(1), \"out\")\n",
    "        self.gpio_cs = GPIO(GPIO.get_gpio_pin(2), \"out\")\n",
    "        self.gpio_rst = GPIO(GPIO.get_gpio_pin(3), \"out\")\n",
    "\n",
    "        self.gpio_a = [GPIO(GPIO.get_gpio_pin(4 + i), \"out\") for i in range(16)]\n",
    "        self.gpio_d = [GPIO(GPIO.get_gpio_pin(20 + i), \"in\") for i in range(8)]\n",
    "        self.read_mode = True\n",
    "        \n",
    "        self.gpio_rst.write(0)\n",
    "        time.sleep(0.1)\n",
    "        self.gpio_rst.write(1)\n",
    "        \n",
    "    def _write_address(self, address):\n",
    "        for i in range(16):\n",
    "            self.gpio_a[i].write(address & 1)\n",
    "            address = address >> 1\n",
    "        time.sleep(1.0 / 1_000_000.0)\n",
    "            \n",
    "    def read(self, address, rom):\n",
    "        self.gpio_rd.write(0)\n",
    "        self.gpio_wr.write(1)\n",
    "        self.gpio_cs.write(int(rom))\n",
    "        \n",
    "        self._write_address(address)\n",
    "        \n",
    "        if not self.read_mode:\n",
    "            self.read_mode = True\n",
    "            for x in self.gpio_d:\n",
    "                x.release()\n",
    "            self.gpio_d = [GPIO(GPIO.get_gpio_pin(20 + i), \"in\") for i in range(8)]\n",
    "        \n",
    "        data = 0\n",
    "        for i in range(8):\n",
    "            data |= self.gpio_d[i].read() << i\n",
    "            \n",
    "        self.gpio_cs.write(1)\n",
    "            \n",
    "        return data\n",
    "            \n",
    "    def write(self, address, data, rom):\n",
    "        self.gpio_rd.write(1)\n",
    "        self.gpio_wr.write(1)\n",
    "        self.gpio_cs.write(int(rom))\n",
    "        \n",
    "        self._write_address(address)\n",
    "        \n",
    "        if self.read_mode:\n",
    "            self.read_mode = False\n",
    "            for x in self.gpio_d:\n",
    "                x.release()\n",
    "            self.gpio_d = [GPIO(GPIO.get_gpio_pin(20 + i), \"out\") for i in range(8)]\n",
    "            \n",
    "        for i in range(8):\n",
    "            self.gpio_d[i].write(data & 1)\n",
    "            data = data >> 1\n",
    "            \n",
    "        self.gpio_wr.write(0)\n",
    "#         time.sleep(0.5 / 1_000_000.0)\n",
    "        time.sleep(0.01)\n",
    "        self.gpio_wr.write(1)\n",
    "        self.gpio_rd.write(0)\n",
    "        self.gpio_cs.write(1)\n",
    "        \n",
    "    def release(self):\n",
    "        gpios = [self.gpio_wr, self.gpio_rd, self.gpio_cs, self.gpio_rst] + self.gpio_a + self.gpio_d\n",
    "        for gpio in gpios:\n",
    "            gpio.release()\n",
    "        \n",
    "if c is not None:\n",
    "    c.release()\n",
    "c = Cartridge()"
   ]
  },
  {
   "cell_type": "code",
   "execution_count": null,
   "id": "df5a9826",
   "metadata": {},
   "outputs": [],
   "source": []
  },
  {
   "cell_type": "code",
   "execution_count": 7,
   "id": "4b8b29ba",
   "metadata": {},
   "outputs": [
    {
     "name": "stdout",
     "output_type": "stream",
     "text": [
      "cart type 0x10\n",
      "rom size 0x6\n",
      "ram size  0x3\n"
     ]
    }
   ],
   "source": [
    "cartridge_type = c.read(0x0147, True)\n",
    "print(\"cart type\", hex(cartridge_type))\n",
    "rom_size = c.read(0x0148, True)\n",
    "print(\"rom size\", hex(rom_size))\n",
    "ram_size = c.read(0x0149, True)\n",
    "print(\"ram size \", hex(ram_size))"
   ]
  },
  {
   "cell_type": "code",
   "execution_count": 113,
   "id": "db8fc20e",
   "metadata": {},
   "outputs": [
    {
     "data": {
      "text/plain": [
       "'0x3'"
      ]
     },
     "execution_count": 113,
     "metadata": {},
     "output_type": "execute_result"
    }
   ],
   "source": [
    "# Cartridge type\n",
    "hex(c.read(0x0147, True))"
   ]
  },
  {
   "cell_type": "code",
   "execution_count": 114,
   "id": "37c9e1b0",
   "metadata": {},
   "outputs": [
    {
     "data": {
      "text/plain": [
       "'0x5f'"
      ]
     },
     "execution_count": 114,
     "metadata": {},
     "output_type": "execute_result"
    }
   ],
   "source": [
    "hex(c.read(0x4000, True))"
   ]
  },
  {
   "cell_type": "code",
   "execution_count": 96,
   "id": "13f56a04",
   "metadata": {},
   "outputs": [],
   "source": [
    "# Rom bank number\n",
    "c.write(0x2000, 5, True)"
   ]
  },
  {
   "cell_type": "code",
   "execution_count": 99,
   "id": "d105a449",
   "metadata": {},
   "outputs": [],
   "source": [
    "# Enable ram\n",
    "c.write(0x0000, 0x0A, True)"
   ]
  },
  {
   "cell_type": "code",
   "execution_count": 103,
   "id": "a71f412a",
   "metadata": {},
   "outputs": [
    {
     "data": {
      "text/plain": [
       "'0xff'"
      ]
     },
     "execution_count": 103,
     "metadata": {},
     "output_type": "execute_result"
    }
   ],
   "source": [
    "hex(c.read(0xA000, False))"
   ]
  },
  {
   "cell_type": "code",
   "execution_count": 102,
   "id": "3084c069",
   "metadata": {},
   "outputs": [],
   "source": [
    "# Disable ram\n",
    "c.write(0x0000, 0x00, True)"
   ]
  },
  {
   "cell_type": "code",
   "execution_count": 8,
   "id": "5f278f87",
   "metadata": {},
   "outputs": [],
   "source": [
    "ram_dump = []"
   ]
  },
  {
   "cell_type": "code",
   "execution_count": 15,
   "id": "37ee854b",
   "metadata": {},
   "outputs": [
    {
     "name": "stdout",
     "output_type": "stream",
     "text": [
      "completed in  71.19623327255249\n",
      "255\n"
     ]
    }
   ],
   "source": [
    "start = time.time()\n",
    "# enable ram\n",
    "c.write(0x0000, 0x0A, True)\n",
    "# bank\n",
    "# done: 0 1 2 not done: 3 \n",
    "c.write(0x4000, 0x3, True)\n",
    "time.sleep(1)\n",
    "for i in range(0xA000, 0xA000 + (8 * 1024)):\n",
    "    b = c.read(i, False)\n",
    "    ram_dump.append(b)\n",
    "# disable ram\n",
    "c.write(0x0000, 0x00, True)\n",
    "end = time.time()\n",
    "print(\"completed in \", end - start)\n",
    "\n",
    "print(c.read(0xA000, False))\n"
   ]
  },
  {
   "cell_type": "code",
   "execution_count": 17,
   "id": "e68743ed",
   "metadata": {},
   "outputs": [],
   "source": [
    "with open('/home/xilinx/ram-silver-1.sav', 'wb') as f:\n",
    "    f.write(bytes(ram_dump))"
   ]
  },
  {
   "cell_type": "code",
   "execution_count": 16,
   "id": "df161816",
   "metadata": {},
   "outputs": [
    {
     "name": "stdout",
     "output_type": "stream",
     "text": [
      "32768\n"
     ]
    }
   ],
   "source": [
    "print(len(ram_dump))"
   ]
  },
  {
   "cell_type": "code",
   "execution_count": null,
   "id": "67a866b4",
   "metadata": {},
   "outputs": [],
   "source": []
  }
 ],
 "metadata": {
  "kernelspec": {
   "display_name": "Python 3 (ipykernel)",
   "language": "python",
   "name": "python3"
  },
  "language_info": {
   "codemirror_mode": {
    "name": "ipython",
    "version": 3
   },
   "file_extension": ".py",
   "mimetype": "text/x-python",
   "name": "python",
   "nbconvert_exporter": "python",
   "pygments_lexer": "ipython3",
   "version": "3.10.4"
  }
 },
 "nbformat": 4,
 "nbformat_minor": 5
}
